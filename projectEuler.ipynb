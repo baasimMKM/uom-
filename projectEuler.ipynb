{
 "cells": [
  {
   "cell_type": "markdown",
   "id": "5cab9cfb",
   "metadata": {},
   "source": [
    "## Name: Baasim M.K.M.\n",
    "\n",
    "Project Euler codes"
   ]
  },
  {
   "cell_type": "markdown",
   "id": "1791f77b",
   "metadata": {},
   "source": [
    "## Problem 1: Multiples of 3 or 5\n",
    "\n",
    "Find the sum of all the multiples of 3 or 5 below 1000."
   ]
  },
  {
   "cell_type": "code",
   "execution_count": null,
   "id": "6aca09e3",
   "metadata": {},
   "outputs": [],
   "source": [
    "sum(x for x in range(1000) if x % 3 == 0 or x % 5 == 0)"
   ]
  },
  {
   "cell_type": "markdown",
   "id": "021fac0b",
   "metadata": {},
   "source": [
    "## Problem 2: Even Fibonacci numbers\n",
    "\n",
    "Find the sum of the even Fibonacci numbers not exceeding 4 million."
   ]
  },
  {
   "cell_type": "code",
   "execution_count": null,
   "id": "6dcdc32c",
   "metadata": {},
   "outputs": [],
   "source": [
    "a, b = 1, 2\n",
    "total = 0\n",
    "while b <= 4_000_000:\n",
    "    if b % 2 == 0:\n",
    "        total += b\n",
    "    a, b = b, a + b\n",
    "total"
   ]
  },
  {
   "cell_type": "markdown",
   "id": "660b4122",
   "metadata": {},
   "source": [
    "## Problem 3: Largest prime factor\n",
    "\n",
    "What is the largest prime factor of the number 600851475143?"
   ]
  },
  {
   "cell_type": "code",
   "execution_count": null,
   "id": "bf3a50d0",
   "metadata": {},
   "outputs": [],
   "source": [
    "n = 600851475143\n",
    "factor = 2\n",
    "while factor * factor <= n:\n",
    "    if n % factor == 0:\n",
    "        n //= factor\n",
    "    else:\n",
    "        factor += 1\n",
    "n"
   ]
  },
  {
   "cell_type": "markdown",
   "id": "0df091c9",
   "metadata": {},
   "source": [
    "## Problem 4: Largest palindrome product\n",
    "\n",
    "Find the largest palindrome made from the product of two 3-digit numbers."
   ]
  },
  {
   "cell_type": "code",
   "execution_count": null,
   "id": "fd5e89c8",
   "metadata": {},
   "outputs": [],
   "source": [
    "max_pal = 0\n",
    "for i in range(100, 1000):\n",
    "    for j in range(100, 1000):\n",
    "        prod = i * j\n",
    "        if str(prod) == str(prod)[::-1] and prod > max_pal:\n",
    "            max_pal = prod\n",
    "max_pal"
   ]
  },
  {
   "cell_type": "markdown",
   "id": "ccf29ee9",
   "metadata": {},
   "source": [
    "## Problem 5: Smallest multiple\n",
    "\n",
    "What is the smallest positive number that is evenly divisible by all of the numbers from 1 to 20?"
   ]
  },
  {
   "cell_type": "code",
   "execution_count": null,
   "id": "a38c48cd",
   "metadata": {},
   "outputs": [],
   "source": [
    "import math\n",
    "lcm = 1\n",
    "for i in range(1, 21):\n",
    "    lcm = lcm * i // math.gcd(lcm, i)\n",
    "lcm"
   ]
  },
  {
   "cell_type": "markdown",
   "id": "744761ad",
   "metadata": {},
   "source": [
    "## Problem 6: Sum square difference\n",
    "\n",
    "Find the difference between the sum of the squares of the first 100 natural numbers and the square of the sum."
   ]
  },
  {
   "cell_type": "code",
   "execution_count": null,
   "id": "11ad87fa",
   "metadata": {},
   "outputs": [],
   "source": [
    "n = 100\n",
    "square_of_sum = sum(range(1, n+1))**2\n",
    "sum_of_squares = sum(i*i for i in range(1, n+1))\n",
    "square_of_sum - sum_of_squares"
   ]
  },
  {
   "cell_type": "markdown",
   "id": "fbcae9d2",
   "metadata": {},
   "source": [
    "## Problem 7: 10001st prime\n",
    "\n",
    "What is the 10001st prime number?"
   ]
  },
  {
   "cell_type": "code",
   "execution_count": null,
   "id": "7d476c4b",
   "metadata": {},
   "outputs": [],
   "source": [
    "def is_prime(n):\n",
    "    if n < 2:\n",
    "        return False\n",
    "    if n % 2 == 0 and n != 2:\n",
    "        return False\n",
    "    r = int(n**0.5)\n",
    "    for i in range(3, r+1, 2):\n",
    "        if n % i == 0:\n",
    "            return False\n",
    "    return True\n",
    "\n",
    "count, num = 0, 1\n",
    "while count < 10001:\n",
    "    num += 1\n",
    "    if is_prime(num):\n",
    "        count += 1\n",
    "num"
   ]
  },
  {
   "cell_type": "markdown",
   "id": "aab313ca",
   "metadata": {},
   "source": [
    "## Problem 8: Largest product in a series\n",
    "\n",
    "Find the thirteen adjacent digits in the 1000-digit number that have the greatest product. What is the value of this product?"
   ]
  },
  {
   "cell_type": "code",
   "execution_count": null,
   "id": "67b410ac",
   "metadata": {},
   "outputs": [],
   "source": [
    "num = (\"\"\"73167176531330624919225119674426574742355349194934\n",
    "96983520312774506326239578318016984801869478851843\n",
    "85861560789112949495459501737958331952853208805511\n",
    "12540698747158523863050715693290963295227443043557\n",
    "66896648950445244523161731856403098711121722383113\n",
    "62229893423380308135336276614282806444486645238749\n",
    "30358907296290491560440772390713810515859307960866\n",
    "70172427121883998797908792274921901699720888093776\n",
    "65727333001053367881220235421809751254540594752243\n",
    "52584907711670556013604839586446706324415722155397\n",
    "53697817977846174064955149290862569321978468622482\n",
    "83972241375657056057490261407972968652414535100474\n",
    "82166370484403199890008895243450658541227588666881\n",
    "16427171479924442928230863465674813919123162824586\n",
    "17866458359124566529476545682848912883142607690042\n",
    "24219022671055626321111109370544217506941658960408\n",
    "07198403850962455444362981230987879927244284909188\n",
    "84580156166097919133875499200524063689912560717606\n",
    "05886116467109405077541002256983155200055935729725\n",
    "71636269561882670428252483600823257530420752963450\"\"\").replace(\"\\n\", \"\")\n",
    "\n",
    "max_prod = 0\n",
    "for i in range(len(num)-12):\n",
    "    digits = [int(d) for d in num[i:i+13]]\n",
    "    prod = 1\n",
    "    for d in digits:\n",
    "        prod *= d\n",
    "    if prod > max_prod:\n",
    "        max_prod = prod\n",
    "max_prod"
   ]
  },
  {
   "cell_type": "markdown",
   "id": "ee2037e4",
   "metadata": {},
   "source": [
    "## Problem 9: Special Pythagorean triplet\n",
    "\n",
    "Find the product abc of the Pythagorean triplet for which a+b+c=1000."
   ]
  },
  {
   "cell_type": "code",
   "execution_count": null,
   "id": "017f3211",
   "metadata": {},
   "outputs": [],
   "source": [
    "for a in range(1, 1000):\n",
    "    for b in range(a, 1000 - a):\n",
    "        c = 1000 - a - b\n",
    "        if a*a + b*b == c*c:\n",
    "            result = a*b*c\n",
    "result"
   ]
  },
  {
   "cell_type": "markdown",
   "id": "fdb3d9c6",
   "metadata": {},
   "source": [
    "## Problem 10: Summation of primes\n",
    "\n",
    "Find the sum of all the primes below two million."
   ]
  },
  {
   "cell_type": "code",
   "execution_count": null,
   "id": "0a078f0e",
   "metadata": {},
   "outputs": [],
   "source": [
    "def is_prime(n):\n",
    "    if n < 2:\n",
    "        return False\n",
    "    if n % 2 == 0:\n",
    "        return n == 2\n",
    "    r = int(n**0.5)\n",
    "    for i in range(3, r+1, 2):\n",
    "        if n % i == 0:\n",
    "            return False\n",
    "    return True\n",
    "\n",
    "total = 2\n",
    "for i in range(3, 2_000_000, 2):\n",
    "    if is_prime(i):\n",
    "        total += i\n",
    "total"
   ]
  }
 ],
 "metadata": {
  "language_info": {
   "name": "python"
  }
 },
 "nbformat": 4,
 "nbformat_minor": 5
}
